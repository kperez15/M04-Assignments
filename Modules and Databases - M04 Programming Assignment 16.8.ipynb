{
 "cells": [
  {
   "cell_type": "code",
   "execution_count": null,
   "id": "99d3f1d6-6190-4456-80e3-fa930ab14894",
   "metadata": {},
   "outputs": [],
   "source": [
    "import sqlite3\n",
    "conn = sqlite3.connect ('books.db')\n",
    "c = conn.cursor()\n",
    "\n",
    "# Books table\n",
    "c.execute (''' CREATE TABLE books (title text, author text, year integer)''')\n",
    "\n",
    "# Insert data into books table\n",
    "c.execute(\"INSERT INTO books VALUES ('It Ends with Us', 'Colleen Hoover', 2016)\")\n",
    "c.execute(\"INSERT INTO books VALUES ('It Starts with Us', 'Colleen Hoover', 2022)\")\n",
    "c.execute(\"INSERT INTO books VALUES ('The Five Love Lnaguages: How to Express Heartfelt Commitment to Your Mate', 'Gary Chapman', 1992)\")\n",
    "\n",
    "# Changes\n",
    "conn.commit()\n",
    "\n",
    "# Connection closed\n",
    "conn.close()\n",
    "import sqlite3\n",
    "conn = sqlite3.connect('books.db')\n",
    "c = conn.cursor()\n",
    "\n",
    "# Title column from books table\n",
    "c.execute('SELECT title FROM books ORDER BY title')\n",
    "\n",
    "# Titles in alphabetical order\n",
    "for row in c:\n",
    "   print(row)\n",
    "\n",
    "# Connection closed\n",
    "conn.close()\n",
    "import sqlite3\n",
    "conn = sqlite3.connect('books.db')\n",
    "c = conn.cursor()\n",
    "\n",
    "# Select all columns from books table\n",
    "c.execute('SELECT * FROM books ORDER BY year')\n",
    "\n",
    "# Print all columns in order of publication\n",
    "for row in c:\n",
    "   print(row)\n",
    "    \n",
    "# Connection closed\n",
    "conn.close()\n",
    "import sqlalchemy\n",
    "\n",
    "# Sqlite database\n",
    "engine = sqlalchemy.create_engine('sqlite:///books.db', echo=True)\n",
    "\n",
    "# Select title column from books table\n",
    "result = engine.execute('SELECT title FROM books ORDER BY title')\n",
    "\n",
    "# Print titles in alphabetical order\n",
    "for row in result:\n",
    "   print(row)"
   ]
  }
 ],
 "metadata": {
  "kernelspec": {
   "display_name": "Python 3 (ipykernel)",
   "language": "python",
   "name": "python3"
  },
  "language_info": {
   "codemirror_mode": {
    "name": "ipython",
    "version": 3
   },
   "file_extension": ".py",
   "mimetype": "text/x-python",
   "name": "python",
   "nbconvert_exporter": "python",
   "pygments_lexer": "ipython3",
   "version": "3.12.1"
  }
 },
 "nbformat": 4,
 "nbformat_minor": 5
}
